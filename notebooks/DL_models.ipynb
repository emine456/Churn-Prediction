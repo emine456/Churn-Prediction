{
 "cells": [
  {
   "cell_type": "code",
   "execution_count": 3,
   "metadata": {},
   "outputs": [],
   "source": [
    "# Package for loading data\n",
    "import pandas as pd\n",
    "import numpy as np\n",
    "\n",
    "# Deep learning package\n",
    "import tensorflow as tf\n",
    "import tensorflow.keras as keras\n",
    "\n",
    "# Metrics \n",
    "from sklearn.metrics import classification_report\n",
    "from sklearn.metrics import confusion_matrix\n",
    "from sklearn.metrics import roc_auc_score\n",
    "from sklearn.metrics import f1_score\n",
    "\n",
    "# Sampling\n",
    "from imblearn.over_sampling import RandomOverSampler\n",
    "from imblearn.under_sampling import RandomUnderSampler\n",
    "from imblearn.over_sampling import SMOTE\n",
    "\n",
    "# Train and test split \n",
    "from sklearn.model_selection import train_test_split\n"
   ]
  },
  {
   "cell_type": "code",
   "execution_count": 4,
   "metadata": {},
   "outputs": [
    {
     "data": {
      "text/html": [
       "<div>\n",
       "<style scoped>\n",
       "    .dataframe tbody tr th:only-of-type {\n",
       "        vertical-align: middle;\n",
       "    }\n",
       "\n",
       "    .dataframe tbody tr th {\n",
       "        vertical-align: top;\n",
       "    }\n",
       "\n",
       "    .dataframe thead th {\n",
       "        text-align: right;\n",
       "    }\n",
       "</style>\n",
       "<table border=\"1\" class=\"dataframe\">\n",
       "  <thead>\n",
       "    <tr style=\"text-align: right;\">\n",
       "      <th></th>\n",
       "      <th>Unnamed: 0</th>\n",
       "      <th>credit_score</th>\n",
       "      <th>country</th>\n",
       "      <th>gender</th>\n",
       "      <th>age</th>\n",
       "      <th>tenure</th>\n",
       "      <th>balance</th>\n",
       "      <th>products_number</th>\n",
       "      <th>credit_card</th>\n",
       "      <th>active_member</th>\n",
       "      <th>estimated_salary</th>\n",
       "      <th>churn</th>\n",
       "    </tr>\n",
       "  </thead>\n",
       "  <tbody>\n",
       "    <tr>\n",
       "      <th>0</th>\n",
       "      <td>0</td>\n",
       "      <td>-0.326221</td>\n",
       "      <td>0</td>\n",
       "      <td>0</td>\n",
       "      <td>42</td>\n",
       "      <td>2</td>\n",
       "      <td>-1.225848</td>\n",
       "      <td>1</td>\n",
       "      <td>1</td>\n",
       "      <td>1</td>\n",
       "      <td>0.021886</td>\n",
       "      <td>1</td>\n",
       "    </tr>\n",
       "    <tr>\n",
       "      <th>1</th>\n",
       "      <td>1</td>\n",
       "      <td>-0.440036</td>\n",
       "      <td>2</td>\n",
       "      <td>0</td>\n",
       "      <td>41</td>\n",
       "      <td>2</td>\n",
       "      <td>0.117350</td>\n",
       "      <td>1</td>\n",
       "      <td>0</td>\n",
       "      <td>1</td>\n",
       "      <td>0.216534</td>\n",
       "      <td>0</td>\n",
       "    </tr>\n",
       "    <tr>\n",
       "      <th>2</th>\n",
       "      <td>2</td>\n",
       "      <td>-1.536794</td>\n",
       "      <td>0</td>\n",
       "      <td>0</td>\n",
       "      <td>42</td>\n",
       "      <td>2</td>\n",
       "      <td>1.333053</td>\n",
       "      <td>3</td>\n",
       "      <td>1</td>\n",
       "      <td>0</td>\n",
       "      <td>0.240687</td>\n",
       "      <td>1</td>\n",
       "    </tr>\n",
       "    <tr>\n",
       "      <th>3</th>\n",
       "      <td>3</td>\n",
       "      <td>0.501521</td>\n",
       "      <td>0</td>\n",
       "      <td>0</td>\n",
       "      <td>39</td>\n",
       "      <td>2</td>\n",
       "      <td>-1.225848</td>\n",
       "      <td>2</td>\n",
       "      <td>0</td>\n",
       "      <td>0</td>\n",
       "      <td>-0.108918</td>\n",
       "      <td>0</td>\n",
       "    </tr>\n",
       "    <tr>\n",
       "      <th>4</th>\n",
       "      <td>4</td>\n",
       "      <td>2.063884</td>\n",
       "      <td>2</td>\n",
       "      <td>0</td>\n",
       "      <td>43</td>\n",
       "      <td>2</td>\n",
       "      <td>0.785728</td>\n",
       "      <td>1</td>\n",
       "      <td>1</td>\n",
       "      <td>1</td>\n",
       "      <td>-0.365276</td>\n",
       "      <td>0</td>\n",
       "    </tr>\n",
       "  </tbody>\n",
       "</table>\n",
       "</div>"
      ],
      "text/plain": [
       "   Unnamed: 0  credit_score  country  gender  age  tenure   balance  \\\n",
       "0           0     -0.326221        0       0   42       2 -1.225848   \n",
       "1           1     -0.440036        2       0   41       2  0.117350   \n",
       "2           2     -1.536794        0       0   42       2  1.333053   \n",
       "3           3      0.501521        0       0   39       2 -1.225848   \n",
       "4           4      2.063884        2       0   43       2  0.785728   \n",
       "\n",
       "   products_number  credit_card  active_member  estimated_salary  churn  \n",
       "0                1            1              1          0.021886      1  \n",
       "1                1            0              1          0.216534      0  \n",
       "2                3            1              0          0.240687      1  \n",
       "3                2            0              0         -0.108918      0  \n",
       "4                1            1              1         -0.365276      0  "
      ]
     },
     "execution_count": 4,
     "metadata": {},
     "output_type": "execute_result"
    }
   ],
   "source": [
    "df = pd.read_csv('../data/processed/preprocessed_data.csv')\n",
    "df.head()"
   ]
  },
  {
   "cell_type": "code",
   "execution_count": 5,
   "metadata": {},
   "outputs": [],
   "source": [
    "# Drop the column Unnamed: 0\n",
    "df.drop([\"Unnamed: 0\"],axis=1,inplace=True)"
   ]
  },
  {
   "cell_type": "code",
   "execution_count": 6,
   "metadata": {},
   "outputs": [],
   "source": [
    "# Independents features\n",
    "X = df.drop(['churn'],axis=1)\n",
    "\n",
    "# Target feature\n",
    "y = df.churn"
   ]
  },
  {
   "cell_type": "code",
   "execution_count": 7,
   "metadata": {},
   "outputs": [],
   "source": [
    "# Train and test split\n",
    "X_train , X_test , y_train , y_test = train_test_split(X,y,test_size=0.2,random_state=42)"
   ]
  },
  {
   "cell_type": "code",
   "execution_count": 8,
   "metadata": {},
   "outputs": [],
   "source": [
    "# Sampling\n",
    "sampler = RandomOverSampler()\n",
    "X_ru , y_ru = sampler.fit_resample(X_train,y_train)"
   ]
  },
  {
   "cell_type": "code",
   "execution_count": 9,
   "metadata": {},
   "outputs": [],
   "source": [
    "keras.backend.clear_session()\n",
    "\n",
    "# Build the architecture of the model\n",
    "model = keras.models.Sequential()\n",
    "model.add(keras.layers.Dense(units=16,activation='relu',kernel_initializer='uniform',input_dim=X.shape[1]))\n",
    "model.add(keras.layers.Dense(units=32,activation='relu'))\n",
    "model.add(keras.layers.Dense(units=32,activation='relu'))\n",
    "model.add(keras.layers.Dense(units=64,activation='relu'))\n",
    "model.add(keras.layers.Dense(units=64,activation='relu'))\n",
    "model.add(keras.layers.Dense(units=1,activation='sigmoid',kernel_initializer='uniform'))\n"
   ]
  },
  {
   "cell_type": "code",
   "execution_count": 10,
   "metadata": {},
   "outputs": [],
   "source": [
    "# Compile the model\n",
    "model.compile(optimizer='adam',loss='binary_crossentropy',metrics=[\"accuracy\"])"
   ]
  },
  {
   "cell_type": "code",
   "execution_count": 11,
   "metadata": {},
   "outputs": [
    {
     "name": "stdout",
     "output_type": "stream",
     "text": [
      "Epoch 1/50\n",
      "1589/1589 [==============================] - 2s 1ms/step - loss: 0.6121 - accuracy: 0.6691\n",
      "Epoch 2/50\n",
      "1589/1589 [==============================] - 1s 908us/step - loss: 0.5904 - accuracy: 0.6919\n",
      "Epoch 3/50\n",
      "1589/1589 [==============================] - 2s 1ms/step - loss: 0.5863 - accuracy: 0.6963\n",
      "Epoch 4/50\n",
      "1589/1589 [==============================] - 2s 1ms/step - loss: 0.5740 - accuracy: 0.7076\n",
      "Epoch 5/50\n",
      "1589/1589 [==============================] - 2s 1ms/step - loss: 0.5639 - accuracy: 0.7094\n",
      "Epoch 6/50\n",
      "1589/1589 [==============================] - 2s 1ms/step - loss: 0.5422 - accuracy: 0.7252\n",
      "Epoch 7/50\n",
      "1589/1589 [==============================] - 2s 1ms/step - loss: 0.5045 - accuracy: 0.7491\n",
      "Epoch 8/50\n",
      "1589/1589 [==============================] - 2s 1ms/step - loss: 0.4852 - accuracy: 0.7587\n",
      "Epoch 9/50\n",
      "1589/1589 [==============================] - 1s 917us/step - loss: 0.4804 - accuracy: 0.7643\n",
      "Epoch 10/50\n",
      "1589/1589 [==============================] - 2s 965us/step - loss: 0.4767 - accuracy: 0.7645\n",
      "Epoch 11/50\n",
      "1589/1589 [==============================] - 2s 1ms/step - loss: 0.4775 - accuracy: 0.7638\n",
      "Epoch 12/50\n",
      "1589/1589 [==============================] - 2s 1ms/step - loss: 0.4748 - accuracy: 0.7628\n",
      "Epoch 13/50\n",
      "1589/1589 [==============================] - 2s 1ms/step - loss: 0.4735 - accuracy: 0.7640\n",
      "Epoch 14/50\n",
      "1589/1589 [==============================] - 2s 956us/step - loss: 0.4706 - accuracy: 0.7664\n",
      "Epoch 15/50\n",
      "1589/1589 [==============================] - 2s 1ms/step - loss: 0.4693 - accuracy: 0.7693\n",
      "Epoch 16/50\n",
      "1589/1589 [==============================] - 2s 975us/step - loss: 0.4670 - accuracy: 0.7695\n",
      "Epoch 17/50\n",
      "1589/1589 [==============================] - 2s 970us/step - loss: 0.4666 - accuracy: 0.7684\n",
      "Epoch 18/50\n",
      "1589/1589 [==============================] - 2s 971us/step - loss: 0.4636 - accuracy: 0.7721\n",
      "Epoch 19/50\n",
      "1589/1589 [==============================] - 2s 1ms/step - loss: 0.4635 - accuracy: 0.7716\n",
      "Epoch 20/50\n",
      "1589/1589 [==============================] - 2s 1ms/step - loss: 0.4595 - accuracy: 0.7747\n",
      "Epoch 21/50\n",
      "1589/1589 [==============================] - 2s 1ms/step - loss: 0.4582 - accuracy: 0.7742\n",
      "Epoch 22/50\n",
      "1589/1589 [==============================] - 2s 989us/step - loss: 0.4548 - accuracy: 0.7753\n",
      "Epoch 23/50\n",
      "1589/1589 [==============================] - 2s 971us/step - loss: 0.4524 - accuracy: 0.7767\n",
      "Epoch 24/50\n",
      "1589/1589 [==============================] - 1s 923us/step - loss: 0.4512 - accuracy: 0.7801\n",
      "Epoch 25/50\n",
      "1589/1589 [==============================] - 2s 1ms/step - loss: 0.4484 - accuracy: 0.7801\n",
      "Epoch 26/50\n",
      "1589/1589 [==============================] - 2s 1ms/step - loss: 0.4430 - accuracy: 0.7857\n",
      "Epoch 27/50\n",
      "1589/1589 [==============================] - 2s 973us/step - loss: 0.4417 - accuracy: 0.7854\n",
      "Epoch 28/50\n",
      "1589/1589 [==============================] - 2s 1ms/step - loss: 0.4395 - accuracy: 0.7887\n",
      "Epoch 29/50\n",
      "1589/1589 [==============================] - 2s 1ms/step - loss: 0.4377 - accuracy: 0.7856\n",
      "Epoch 30/50\n",
      "1589/1589 [==============================] - 2s 986us/step - loss: 0.4338 - accuracy: 0.7909\n",
      "Epoch 31/50\n",
      "1589/1589 [==============================] - 2s 1ms/step - loss: 0.4324 - accuracy: 0.7904\n",
      "Epoch 32/50\n",
      "1589/1589 [==============================] - 2s 1ms/step - loss: 0.4302 - accuracy: 0.7912\n",
      "Epoch 33/50\n",
      "1589/1589 [==============================] - 2s 1ms/step - loss: 0.4306 - accuracy: 0.7923\n",
      "Epoch 34/50\n",
      "1589/1589 [==============================] - 2s 1ms/step - loss: 0.4277 - accuracy: 0.7942\n",
      "Epoch 35/50\n",
      "1589/1589 [==============================] - 2s 1ms/step - loss: 0.4274 - accuracy: 0.7957\n",
      "Epoch 36/50\n",
      "1589/1589 [==============================] - 2s 995us/step - loss: 0.4251 - accuracy: 0.7971\n",
      "Epoch 37/50\n",
      "1589/1589 [==============================] - 2s 1ms/step - loss: 0.4253 - accuracy: 0.7952\n",
      "Epoch 38/50\n",
      "1589/1589 [==============================] - 2s 1ms/step - loss: 0.4207 - accuracy: 0.7980\n",
      "Epoch 39/50\n",
      "1589/1589 [==============================] - 2s 1ms/step - loss: 0.4196 - accuracy: 0.7948\n",
      "Epoch 40/50\n",
      "1589/1589 [==============================] - 2s 1ms/step - loss: 0.4186 - accuracy: 0.7963\n",
      "Epoch 41/50\n",
      "1589/1589 [==============================] - 2s 1ms/step - loss: 0.4158 - accuracy: 0.7996\n",
      "Epoch 42/50\n",
      "1589/1589 [==============================] - 2s 1ms/step - loss: 0.4137 - accuracy: 0.7996\n",
      "Epoch 43/50\n",
      "1589/1589 [==============================] - 2s 1ms/step - loss: 0.4158 - accuracy: 0.7985\n",
      "Epoch 44/50\n",
      "1589/1589 [==============================] - 2s 1ms/step - loss: 0.4121 - accuracy: 0.8027\n",
      "Epoch 45/50\n",
      "1589/1589 [==============================] - 2s 1ms/step - loss: 0.4110 - accuracy: 0.8026\n",
      "Epoch 46/50\n",
      "1589/1589 [==============================] - 2s 1ms/step - loss: 0.4137 - accuracy: 0.8048\n",
      "Epoch 47/50\n",
      "1589/1589 [==============================] - 2s 1ms/step - loss: 0.4071 - accuracy: 0.8011\n",
      "Epoch 48/50\n",
      "1589/1589 [==============================] - 2s 1ms/step - loss: 0.4040 - accuracy: 0.8058\n",
      "Epoch 49/50\n",
      "1589/1589 [==============================] - 2s 1ms/step - loss: 0.4045 - accuracy: 0.8018\n",
      "Epoch 50/50\n",
      "1589/1589 [==============================] - 2s 1ms/step - loss: 0.4026 - accuracy: 0.8058\n"
     ]
    },
    {
     "data": {
      "text/plain": [
       "<keras.callbacks.History at 0x7f7ea20b0c70>"
      ]
     },
     "execution_count": 11,
     "metadata": {},
     "output_type": "execute_result"
    }
   ],
   "source": [
    "# Fit the model\n",
    "model.fit(X_ru,y_ru,epochs=50,batch_size=8)"
   ]
  },
  {
   "cell_type": "code",
   "execution_count": 12,
   "metadata": {},
   "outputs": [
    {
     "name": "stdout",
     "output_type": "stream",
     "text": [
      "63/63 [==============================] - 0s 847us/step - loss: 0.4720 - accuracy: 0.7795\n"
     ]
    },
    {
     "data": {
      "text/plain": [
       "[0.47199657559394836, 0.7795000076293945]"
      ]
     },
     "execution_count": 12,
     "metadata": {},
     "output_type": "execute_result"
    }
   ],
   "source": [
    "model.evaluate(X_test,y_test)"
   ]
  },
  {
   "cell_type": "code",
   "execution_count": 13,
   "metadata": {},
   "outputs": [
    {
     "data": {
      "text/plain": [
       "array([[0.07618281],\n",
       "       [0.04713839],\n",
       "       [0.06238341],\n",
       "       [0.53705275],\n",
       "       [0.07451606]], dtype=float32)"
      ]
     },
     "execution_count": 13,
     "metadata": {},
     "output_type": "execute_result"
    }
   ],
   "source": [
    "y_pred = model.predict(X_test)\n",
    "y_pred[:5]"
   ]
  },
  {
   "cell_type": "code",
   "execution_count": 47,
   "metadata": {},
   "outputs": [],
   "source": [
    "y_pred_new = []\n",
    "\n",
    "for element in y_pred:\n",
    "\tif element > 0.56:\n",
    "\t\ty_pred_new.append(1)\n",
    "\telse:\n",
    "\t\ty_pred_new.append(0)"
   ]
  },
  {
   "cell_type": "code",
   "execution_count": 48,
   "metadata": {},
   "outputs": [
    {
     "name": "stdout",
     "output_type": "stream",
     "text": [
      "              precision    recall  f1-score   support\n",
      "\n",
      "           0       0.93      0.82      0.87      1607\n",
      "           1       0.51      0.75      0.60       393\n",
      "\n",
      "    accuracy                           0.81      2000\n",
      "   macro avg       0.72      0.79      0.74      2000\n",
      "weighted avg       0.85      0.81      0.82      2000\n",
      "\n"
     ]
    }
   ],
   "source": [
    "print(classification_report(y_test,y_pred_new))"
   ]
  },
  {
   "cell_type": "code",
   "execution_count": 105,
   "metadata": {},
   "outputs": [
    {
     "name": "stdout",
     "output_type": "stream",
     "text": [
      "INFO:tensorflow:Assets written to: ../models/Deep_Learning_model/assets\n"
     ]
    }
   ],
   "source": [
    "# Save the model\n",
    "model.save('../models/Deep_Learning_model')"
   ]
  }
 ],
 "metadata": {
  "kernelspec": {
   "display_name": "Python 3.8.8 ('base')",
   "language": "python",
   "name": "python3"
  },
  "language_info": {
   "codemirror_mode": {
    "name": "ipython",
    "version": 3
   },
   "file_extension": ".py",
   "mimetype": "text/x-python",
   "name": "python",
   "nbconvert_exporter": "python",
   "pygments_lexer": "ipython3",
   "version": "3.8.8"
  },
  "orig_nbformat": 4,
  "vscode": {
   "interpreter": {
    "hash": "a42f6302e3d23d3668f2d0b7977f0ef8f0daff6581f6ad2246fcb645f18ded80"
   }
  }
 },
 "nbformat": 4,
 "nbformat_minor": 2
}
